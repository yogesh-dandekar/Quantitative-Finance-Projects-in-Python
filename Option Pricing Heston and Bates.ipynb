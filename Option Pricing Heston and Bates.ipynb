{
 "cells": [
  {
   "cell_type": "markdown",
   "id": "904a0a0d-bf52-40ef-83eb-a4e79e74c02b",
   "metadata": {},
   "source": [
    "In this notebook, I focus on pricing European Options using the following models: Black-Scholes-Merton model, Heston model, and the Bates model. \n",
    "\n",
    "Starting with the Black-Scholes-Merton model, I find the price of options using analytical formulas. Next, I show how to find the Implied Volatility by observing the market price of the Options. Next, I derive the Option price using Monte Carlo simulations of the Geometric Brownian motion. Then, for the Heston model (which has stochastic volatility), I derive the price of Options using Monte Carlo Simulations. Finally, for the Bates model (which has both jumps and stochastic volatility), I derive the price of Options using Monte Carlo Simulations.      "
   ]
  },
  {
   "cell_type": "code",
   "execution_count": 79,
   "id": "7121fd2b-0d03-4a47-be1e-fa9ce9f6f0f7",
   "metadata": {},
   "outputs": [],
   "source": [
    "import math\n",
    "import numpy as np\n",
    "from scipy.stats import norm\n",
    "from scipy.optimize import brentq\n",
    "import matplotlib.pyplot as plt\n",
    "import seaborn as sns"
   ]
  },
  {
   "cell_type": "markdown",
   "id": "b8cb58ab-83cf-4f2d-b468-f6b9b0684c82",
   "metadata": {},
   "source": [
    "Pricing European Call and Put Options using the Black-Scholes-Merton model's analytical pricing formulas"
   ]
  },
  {
   "cell_type": "code",
   "execution_count": 80,
   "id": "e30e149b-50a8-46e0-bcfd-cfd21aaa45c7",
   "metadata": {},
   "outputs": [],
   "source": [
    "def option_price_bsmd(S, K, T, r, q, sigma, option_type='call'):\n",
    "    d1 = (np.log(S / K) + (r - q + 0.5 * sigma ** 2) * T) / (sigma * np.sqrt(T))\n",
    "    d2 = d1 - sigma * np.sqrt(T)\n",
    "    if option_type == 'call':\n",
    "        price = S * np.exp(-q * T) * norm.cdf(d1) - K * np.exp(-r * T) * norm.cdf(d2)\n",
    "    elif option_type == 'put':\n",
    "        price = K * np.exp(-r * T) * norm.cdf(-d2) - S * np.exp(-q * T) * norm.cdf(-d1)\n",
    "    return price"
   ]
  },
  {
   "cell_type": "code",
   "execution_count": 81,
   "id": "20fa13bd-1177-4e7b-bee1-bfe8b3164573",
   "metadata": {},
   "outputs": [],
   "source": [
    "S = 100      \n",
    "K = 100   \n",
    "T = 1        \n",
    "r = 0.05   \n",
    "q = 0.02\n",
    "sigma = 0.2  "
   ]
  },
  {
   "cell_type": "code",
   "execution_count": 82,
   "id": "23d75223-ecb8-4bb0-86b9-413228688b28",
   "metadata": {},
   "outputs": [
    {
     "name": "stdout",
     "output_type": "stream",
     "text": [
      "Call Option Price: 9.23\n",
      "Put Option Price: 6.33\n"
     ]
    }
   ],
   "source": [
    "call_price = option_price_bsmd(S, K, T, r, q, sigma, 'call')\n",
    "put_price = option_price_bsmd(S, K, T, r, q, sigma, 'put')\n",
    "\n",
    "print(f\"Call Option Price: {call_price:.2f}\")\n",
    "print(f\"Put Option Price: {put_price:.2f}\")"
   ]
  },
  {
   "cell_type": "markdown",
   "id": "6ad81c08-1ab6-4aac-882b-ac780607cc9b",
   "metadata": {},
   "source": [
    "Finding the implied volatility using the price of Options observed in the market"
   ]
  },
  {
   "cell_type": "code",
   "execution_count": 83,
   "id": "a81da4a4-9057-417f-bcf6-658966465904",
   "metadata": {},
   "outputs": [],
   "source": [
    "def implied_volatility(price, S, K, T, r, q, option_type='call', tol=1e-6, max_iter=100):\n",
    "    def objective(sigma):\n",
    "        return option_price_bsmd(S, K, T, r, q, sigma, option_type) - price\n",
    "    imp_vol = brentq(objective, 1e-8, 10.0, xtol=tol, maxiter=max_iter)\n",
    "    return imp_vol "
   ]
  },
  {
   "cell_type": "code",
   "execution_count": 84,
   "id": "9f314bd9-8705-4183-9adc-fe1c6a939f5a",
   "metadata": {},
   "outputs": [],
   "source": [
    "call_price_obs = 9.23\n",
    "put_price_obs = 6.33"
   ]
  },
  {
   "cell_type": "code",
   "execution_count": 85,
   "id": "2086072a-3bff-4129-a20d-7d3bd9ccd66b",
   "metadata": {},
   "outputs": [
    {
     "name": "stdout",
     "output_type": "stream",
     "text": [
      "Implied Volatility (using market price of Call): 0.2001\n",
      "Implied Volatility (using market price of Put): 0.2000\n"
     ]
    }
   ],
   "source": [
    "iv_call = implied_volatility(call_price_obs, S, K, T, r, q, 'call')\n",
    "iv_put = implied_volatility(put_price_obs, S, K, T, r, q, 'put')\n",
    "\n",
    "print(f\"Implied Volatility (using market price of Call): {iv_call:.4f}\")\n",
    "print(f\"Implied Volatility (using market price of Put): {iv_put:.4f}\")"
   ]
  },
  {
   "cell_type": "markdown",
   "id": "ce3ef20f-5c58-49e7-aa07-3005943ef1bd",
   "metadata": {},
   "source": [
    "Pricing European Call and Put Options using Monte Carlo simulations of the Geometric Brownian Motion. Presenting the answer using 95% confidence interval."
   ]
  },
  {
   "cell_type": "code",
   "execution_count": 86,
   "id": "2eb198db-fcdc-4b54-afdd-a3d045cb788e",
   "metadata": {},
   "outputs": [],
   "source": [
    "def bsmd_mc_option_price(S0, K, T, r, q, sigma, n_sim=10**6, option_type='call'):\n",
    "    Z = np.random.standard_normal(n_sim)\n",
    "    ST = S0 * np.exp((r - q - 0.5 * sigma**2) * T + sigma * np.sqrt(T) * Z)\n",
    "    if option_type == 'call':\n",
    "        payoffs = np.maximum(ST - K, 0)\n",
    "    elif option_type == 'put':\n",
    "        payoffs = np.maximum(K - ST, 0)\n",
    "    discounted_payoffs = np.exp(-r * T) * payoffs\n",
    "    option_price = np.mean(discounted_payoffs)\n",
    "    std_err = np.std(discounted_payoffs, ddof=1) / np.sqrt(n_sim)\n",
    "    return option_price, std_err"
   ]
  },
  {
   "cell_type": "code",
   "execution_count": 87,
   "id": "ca691a4b-f16a-4a4d-b2dc-808f710338bf",
   "metadata": {},
   "outputs": [],
   "source": [
    "S0 = 100      \n",
    "K = 100       \n",
    "T = 1         \n",
    "r = 0.05     \n",
    "q = 0.02\n",
    "sigma = 0.2   \n",
    "zs=1.96"
   ]
  },
  {
   "cell_type": "code",
   "execution_count": 89,
   "id": "7160e551-17c5-4cdb-8aee-468fd1b9c75d",
   "metadata": {},
   "outputs": [
    {
     "name": "stdout",
     "output_type": "stream",
     "text": [
      "Call Option Price: 9.2246 ± 0.0271\n",
      "Put Option Price:  6.3550 ± 0.0180\n"
     ]
    }
   ],
   "source": [
    "call_price, se_call = bsmd_mc_option_price(S0, K, T, r, q, sigma, option_type='call')\n",
    "put_price, se_put  = bsmd_mc_option_price(S0, K, T, r, q, sigma, option_type='put')\n",
    "\n",
    "print(f\"Call Option Price: {call_price:.4f} ± {zs*se_call:.4f}\")\n",
    "print(f\"Put Option Price:  {put_price:.4f} ± {zs*se_put:.4f}\")"
   ]
  },
  {
   "cell_type": "markdown",
   "id": "f0cf07d2-3683-4b8c-ad84-2e2023142494",
   "metadata": {},
   "source": [
    "Pricing European Call and Put Options using Monte Carlo simulations of the **Heston Model** \n",
    "\n",
    "The model is defined by: $dS=(r-q)~dt+\\sqrt{v} ~dW_S$ and $dv=\\kappa(\\theta-v)~dt + \\xi ~\\sqrt{v}~dW_v $ with $\\text{corr}(dW_S,dW_v)=\\rho$"
   ]
  },
  {
   "cell_type": "code",
   "execution_count": 90,
   "id": "420dd168-3a1d-4ead-bca6-784afd4dac60",
   "metadata": {},
   "outputs": [],
   "source": [
    "def heston_mc_option_price(S0, K, T, r, q, v0, kappa, theta, xi, rho, n_sim=10**6, n_steps=252, option_type='call'):\n",
    "    dt = T / n_steps\n",
    "    S = np.full((n_sim,), S0, dtype=np.float64)\n",
    "    v = np.full((n_sim,), v0, dtype=np.float64)\n",
    "    for _ in range(n_steps): \n",
    "        v = np.maximum(v, 0) \n",
    "        W1 = np.random.standard_normal(size=n_sim)\n",
    "        W2 = rho * W1 + np.sqrt(1 - rho**2) * np.random.standard_normal(size=n_sim)\n",
    "        S = S * np.exp((r - q - 0.5 * v) * dt + np.sqrt(v * dt) * W1)\n",
    "        v = v + kappa * (theta - v) * dt + xi * np.sqrt(v * dt) * W2\n",
    "    if option_type == 'call':\n",
    "        payoffs = np.maximum(S - K, 0)\n",
    "    elif option_type == 'put':\n",
    "        payoffs = np.maximum(K - S, 0)\n",
    "    discounted_payoffs = np.exp(-r * T) * payoffs\n",
    "    option_price = np.mean(discounted_payoffs)\n",
    "    std_err = np.std(discounted_payoffs, ddof=1) / np.sqrt(n_sim)\n",
    "    return option_price, std_err"
   ]
  },
  {
   "cell_type": "code",
   "execution_count": 91,
   "id": "a4b92277-7238-41ef-9ae2-bb905ba8b350",
   "metadata": {},
   "outputs": [],
   "source": [
    "S0 = 100\n",
    "K = 100\n",
    "T = 1\n",
    "r = 0.05\n",
    "q=0.0\n",
    "zs = 1.96\n",
    "\n",
    "v0 = 0.04        \n",
    "kappa = 2.0       \n",
    "theta = 0.04      \n",
    "xi = 0.4         \n",
    "rho = 0.9       "
   ]
  },
  {
   "cell_type": "code",
   "execution_count": 92,
   "id": "86e08a24-55bf-4280-9a69-4a8f39f40ed2",
   "metadata": {},
   "outputs": [
    {
     "name": "stdout",
     "output_type": "stream",
     "text": [
      "Call Option Price: 9.6962 ± 0.0387\n",
      "Put Option Price: 4.8279 ± 0.0117\n"
     ]
    }
   ],
   "source": [
    "call_price, se_call = heston_mc_option_price(S0, K, T, r, q, v0, kappa, theta, xi, rho, option_type='call')\n",
    "put_price, se_put = heston_mc_option_price(S0, K, T, r, q, v0, kappa, theta, xi, rho, option_type='put')\n",
    "\n",
    "print(f\"Call Option Price: {call_price:.4f} ± {zs*se_call:.4f}\")\n",
    "print(f\"Put Option Price: {put_price:.4f} ± {zs*se_put:.4f}\")"
   ]
  },
  {
   "cell_type": "markdown",
   "id": "226949a0-8319-42fa-af75-d873eef92456",
   "metadata": {},
   "source": [
    "Pricing European Call and Put Options using Monte Carlo simulations of the **Bates Model**.\n",
    "\n",
    "The model is defined by: $dS=(r-q)~dt+\\sqrt{v} ~dW_S + dZ_p$ and $dv=\\kappa(\\theta-v)~dt + \\xi ~\\sqrt{v}~dW_v $ with $\\text{corr}(dW_S,dW_v)=\\rho$. \n",
    "\n",
    "$dZ_p$ is a compound Poisson process with intensity $\\lambda_j$ and random jump sizes $k$. \n",
    "\n",
    "$k$ is distributed as $\\ln(1+k)\\sim N(\\mu_j,\\sigma_j^2)$ where $\\mu_j=\\ln(1+\\bar k)-\\frac{\\sigma_j^2}{2}$ and $\\bar k$ is the mean jump size."
   ]
  },
  {
   "cell_type": "code",
   "execution_count": 105,
   "id": "d510ae0b-966f-4326-ac56-6edbe8d76d90",
   "metadata": {},
   "outputs": [],
   "source": [
    "def bates_mc_option_price(S0, K, T, r, q, v0, kappa, theta, xi, rho, lambda_j, mu_j, sigma_j, n_sim=10**6, n_steps=252, option_type='call'):\n",
    "    dt = T / n_steps\n",
    "    S = np.full(n_sim, S0)\n",
    "    v = np.full(n_sim, v0)\n",
    "    kappa_jump = np.exp(mu_j + 0.5 * sigma_j**2) - 1  \n",
    "    for _ in range(n_steps):\n",
    "        v = np.maximum(v, 0)\n",
    "        W1 = np.random.standard_normal(size=n_sim)\n",
    "        W2 = rho * W1 + np.sqrt(1 - rho**2) * np.random.standard_normal(size=n_sim)  \n",
    "        dN = np.random.poisson(lambda_j * dt, size=n_sim)  \n",
    "        jump_sum = dN * np.random.normal(loc=mu_j, scale=sigma_j, size=n_sim)\n",
    "        S = S * np.exp((r - q - lambda_j * kappa_jump - 0.5 * v) * dt +\n",
    "                       np.sqrt(v * dt) * W1 + jump_sum)\n",
    "        v = v + kappa * (theta - v) * dt + xi * np.sqrt(v * dt) * W2\n",
    "    if option_type == 'call':\n",
    "        payoffs = np.maximum(S - K, 0)\n",
    "    elif option_type == 'put':\n",
    "        payoffs = np.maximum(K - S, 0)\n",
    "    discounted_payoffs = np.exp(-r * T) * payoffs\n",
    "    option_price = np.mean(discounted_payoffs)\n",
    "    std_err = np.std(discounted_payoffs, ddof=1) / np.sqrt(n_sim)\n",
    "    return option_price, std_err"
   ]
  },
  {
   "cell_type": "code",
   "execution_count": 106,
   "id": "3fc4fddd-f898-4f5d-9138-1fa9acd1dac7",
   "metadata": {},
   "outputs": [],
   "source": [
    "S0 = 80\n",
    "K = 76\n",
    "T = 0.5\n",
    "r = 0.03\n",
    "q = 0.02\n",
    "\n",
    "v0 = 0.04\n",
    "kappa = 1.0\n",
    "theta = 0.05\n",
    "xi = 0.2\n",
    "rho = -0.7\n",
    "\n",
    "lambda_j = 2.0   \n",
    "sigma_j = 0.08\n",
    "k_bar = 0.02\n",
    "mu_j = np.log(1+k_bar)- (sigma_j**2)/2   "
   ]
  },
  {
   "cell_type": "code",
   "execution_count": 107,
   "id": "c9f23ce2-3002-4c14-bd78-08be36c98006",
   "metadata": {},
   "outputs": [
    {
     "name": "stdout",
     "output_type": "stream",
     "text": [
      "Call Option Price: 7.5651 ± 0.0184\n",
      "Put Option Price: 3.2332 ± 0.0115\n"
     ]
    }
   ],
   "source": [
    "call_price, se_call = bates_mc_option_price(S0, K, T, r, q, v0, kappa, theta, xi, rho, lambda_j, mu_j, sigma_j, option_type='call')\n",
    "put_price, se_put = bates_mc_option_price(S0, K, T, r, q, v0, kappa, theta, xi, rho, lambda_j, mu_j, sigma_j, option_type='put')\n",
    "\n",
    "print(f\"Call Option Price: {call_price:.4f} ± {zs*se_call:.4f}\")\n",
    "print(f\"Put Option Price: {put_price:.4f} ± {zs*se_put:.4f}\")"
   ]
  },
  {
   "cell_type": "code",
   "execution_count": null,
   "id": "4f138d39-187e-4c54-b5fa-f7c2b881f5a1",
   "metadata": {},
   "outputs": [],
   "source": []
  }
 ],
 "metadata": {
  "kernelspec": {
   "display_name": "Python [conda env:base] *",
   "language": "python",
   "name": "conda-base-py"
  },
  "language_info": {
   "codemirror_mode": {
    "name": "ipython",
    "version": 3
   },
   "file_extension": ".py",
   "mimetype": "text/x-python",
   "name": "python",
   "nbconvert_exporter": "python",
   "pygments_lexer": "ipython3",
   "version": "3.11.7"
  }
 },
 "nbformat": 4,
 "nbformat_minor": 5
}
